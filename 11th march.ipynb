{
 "cells": [
  {
   "cell_type": "markdown",
   "id": "f11370bd-abdc-4f37-b026-964d9f773717",
   "metadata": {},
   "source": [
    "# Q1: What is the difference between a t-test and a z-test? Provide an example scenario where you would use each type of test."
   ]
  },
  {
   "cell_type": "markdown",
   "id": "90ee0681-e921-462f-a241-008cf01b40ac",
   "metadata": {},
   "source": [
    "## A t-test and a z-test are both statistical hypothesis tests that are used to determine whether there is a significant difference between two groups or samples. However, they differ in terms of the type of data they are used with and the assumptions that underlie their calculations.\n",
    "\n",
    "## A t-test is used to determine whether there is a significant difference between the means of two groups when the sample sizes are small (typically less than 30) or the population standard deviation is unknown. For example, a t-test could be used to determine whether there is a significant difference in the mean scores of two groups of students on a test.\n",
    "\n",
    "## On the other hand, a z-test is used when the sample size is large (typically more than 30) and the population standard deviation is known or can be estimated. A z-test could be used to determine whether there is a significant difference between the mean heights of men and women in a population.\n",
    "\n",
    "## In summary, a t-test is appropriate when the sample size is small or the population standard deviation is unknown, while a z-test is appropriate when the sample size is large and the population standard deviation is known or can be estimated.\n",
    "\n",
    "## It is important to note that the choice between a t-test and a z-test depends on the specific research question and the nature of the data being analyzed. A statistician or researcher should carefully consider the assumptions of each test and choose the one that is most appropriate for their analysis.\n",
    "\n",
    "\n",
    "\n"
   ]
  },
  {
   "cell_type": "markdown",
   "id": "2cc547f0-0a86-4aeb-9e36-cee45706b70a",
   "metadata": {},
   "source": [
    "# Q2: Differentiate between one-tailed and two-tailed tests.\n"
   ]
  },
  {
   "cell_type": "markdown",
   "id": "c4ec918c-cf54-4d2d-b760-6c80fdd9510c",
   "metadata": {},
   "source": [
    "## A statistical hypothesis test can be either one-tailed or two-tailed, and the difference between the two is related to the directionality of the research hypothesis.\n",
    "\n",
    "## In a two-tailed test, the research hypothesis does not specify a directionality of the effect, but simply that there is a difference between the two groups being compared. For example, a two-tailed test could be used to determine whether there is a difference in the mean scores of two groups of students on a test, without specifying which group is expected to have higher scores. The null hypothesis in a two-tailed test states that there is no difference between the two groups.\n",
    "\n",
    "## In contrast, a one-tailed test is used when the research hypothesis specifies a directionality of the effect. For example, a one-tailed test could be used to determine whether a new teaching method leads to higher mean test scores among students, with the research hypothesis stating that the new teaching method will lead to higher scores. The null hypothesis in a one-tailed test states that there is no significant difference between the two groups in the specified direction.\n",
    "\n",
    "## The choice between a one-tailed and two-tailed test should be based on the research question and the hypothesis being tested. In general, a one-tailed test is more powerful than a two-tailed test because it is focused on a specific direction of effect. However, a one-tailed test should only be used when there is a strong theoretical or empirical justification for the directionality specified in the research hypothesis. If there is no specific directionality in the research hypothesis, a two-tailed test is more appropriate."
   ]
  },
  {
   "cell_type": "markdown",
   "id": "3d9ae923-4640-4c05-beba-ab4272e5c7f1",
   "metadata": {},
   "source": [
    "# Q3: Explain the concept of Type 1 and Type 2 errors in hypothesis testing. Provide an example scenario for each type of error."
   ]
  },
  {
   "cell_type": "markdown",
   "id": "5495b4e0-1919-42b8-8544-b261c5f0a71f",
   "metadata": {},
   "source": [
    "## In hypothesis testing, there are two types of errors that can occur: Type 1 and Type 2 errors.\n",
    "\n",
    "## Type 1 error occurs when a null hypothesis is rejected even though it is true. It means that the researcher concludes that there is a significant effect or difference when in fact there is not. The probability of committing a Type 1 error is denoted by the Greek letter alpha (α), and is often set to a standard value of 0.05 or 0.01.\n",
    "\n",
    "## An example scenario for Type 1 error is in medical research. Suppose a researcher is testing a new drug and concludes that the drug is effective in treating a particular disease when in reality, the drug has no effect. This Type 1 error could lead to the drug being approved for use and administered to patients, even though it is ineffective, which could be harmful to the patients and a waste of resources.\n",
    "\n",
    "## Type 2 error, on the other hand, occurs when a null hypothesis is not rejected even though it is false. It means that the researcher concludes that there is no significant effect or difference when in fact there is one. The probability of committing a Type 2 error is denoted by the Greek letter beta (β). The power of a statistical test is defined as 1-β and is the probability of correctly rejecting a false null hypothesis.\n",
    "\n",
    "## An example scenario for Type 2 error is in medical testing. Suppose a researcher is testing a new drug and concludes that the drug is not effective in treating a particular disease when in reality, the drug is effective. This Type 2 error could lead to the drug being rejected for use, even though it is effective, which could be detrimental to patients who could have benefited from the drug.\n",
    "\n",
    "## In conclusion, Type 1 and Type 2 errors are important concepts in hypothesis testing as they highlight the risk of drawing incorrect conclusions from statistical analyses. It is important to minimize the risk of both types of errors and choose appropriate significance levels and statistical power to ensure valid and reliable results."
   ]
  },
  {
   "cell_type": "markdown",
   "id": "bedb12c9-f3f1-4ac7-81f7-437be29e3952",
   "metadata": {},
   "source": [
    "# Q4: Explain Bayes's theorem with an example."
   ]
  },
  {
   "cell_type": "markdown",
   "id": "caf8dbd0-0984-49d4-bf9b-ddaafb27194f",
   "metadata": {},
   "source": [
    "## Bayes's theorem is a mathematical formula used to calculate the probability of an event based on prior knowledge or evidence. It states that the probability of an event A given evidence B is equal to the probability of evidence B given event A, multiplied by the prior probability of event A, divided by the marginal probability of evidence B.\n",
    "\n",
    "## Mathematically, Bayes's theorem can be expressed as follows:\n",
    "\n",
    "## P(A|B) = P(B|A) * P(A) / P(B)\n",
    "\n",
    "## where P(A|B) is the conditional probability of event A given evidence B, P(B|A) is the conditional probability of evidence B given event A, P(A) is the prior probability of event A, and P(B) is the marginal probability of evidence B.\n",
    "\n",
    "## An example of Bayes's theorem in action is medical diagnosis. Suppose a patient presents with symptoms of a certain disease, and the doctor wants to determine the probability of the patient having the disease based on the symptoms. The doctor knows that the prevalence of the disease in the general population is 1%, and the test used to diagnose the disease has a false positive rate of 5% and a false negative rate of 10%.\n",
    "\n",
    "## Using Bayes's theorem, the doctor can calculate the probability of the patient having the disease given the symptoms:\n",
    "\n",
    "## P(Disease|Symptoms) = P(Symptoms|Disease) * P(Disease) / P(Symptoms)\n",
    "\n",
    "## where P(Disease|Symptoms) is the probability of the patient having the disease given the symptoms, P(Symptoms|Disease) is the probability of the symptoms given the patient has the disease, P(Disease) is the prior probability of the patient having the disease (1%), and P(Symptoms) is the marginal probability of the symptoms.\n",
    "\n",
    "## Assuming that the symptoms occur in 90% of people with the disease, and 10% of people without the disease, the probability of the symptoms given the disease is 0.9, and the probability of the symptoms given no disease is 0.1. Using Bayes's theorem, we get:\n",
    "\n",
    "## P(Disease|Symptoms) = 0.9 * 0.01 / ((0.9 * 0.01) + (0.05 * 0.99))\n",
    "\n",
    "## This gives a probability of about 15% that the patient has the disease, despite presenting with symptoms. This probability is significantly higher than the base rate of 1%, due to the presence of the symptoms.\n",
    "\n",
    "## In conclusion, Bayes's theorem is a powerful tool that allows for the calculation of probabilities based on prior knowledge and evidence. It is widely used in many fields, including medicine, finance, and artificial intelligence."
   ]
  },
  {
   "cell_type": "markdown",
   "id": "ac65042e-8d69-40bc-95ff-9dc53f8af58f",
   "metadata": {},
   "source": [
    "# Q5: What is a confidence interval? How to calculate the confidence interval, explain with an example."
   ]
  },
  {
   "cell_type": "markdown",
   "id": "342d351d-e63c-4c12-86b2-b3d234bda9d0",
   "metadata": {},
   "source": [
    "## A confidence interval is a range of values that is likely to contain the true value of a population parameter with a specified level of confidence. In statistical analysis, a confidence interval is used to estimate the range of possible values of a population parameter, such as the mean or standard deviation, based on a sample of data.\n",
    "\n",
    "## The confidence interval is calculated by taking into account the sample size, sample mean, sample standard deviation, and the desired level of confidence. The confidence level is typically expressed as a percentage, such as 95% or 99%, and represents the probability that the true population parameter lies within the calculated interval.\n",
    "\n",
    "## To calculate a confidence interval for a population mean, we use the following formula:\n",
    "\n",
    "## Confidence interval = sample mean ± (z-score * standard error)\n",
    "\n",
    "## where the z-score corresponds to the desired level of confidence and can be found in a standard normal distribution table or calculated using statistical software, and the standard error is calculated as the sample standard deviation divided by the square root of the sample size.\n",
    "\n",
    "## For example, suppose we want to estimate the average height of a population of individuals based on a sample of 50 individuals. We measure the height of each individual in the sample and find that the sample mean is 170 cm and the sample standard deviation is 5 cm. We want to calculate a 95% confidence interval for the true population mean.\n",
    "\n",
    "## The z-score for a 95% confidence level is 1.96. The standard error can be calculated as:\n",
    "\n",
    "## Standard error = sample standard deviation / √sample size\n",
    "## = 5 / √50\n",
    "## = 0.71\n",
    "\n",
    "## Therefore, the 95% confidence interval for the population mean is:\n",
    "\n",
    "## 170 ± (1.96 * 0.71)\n",
    "## = 170 ± 1.39\n",
    "## = [168.61, 171.39]\n",
    "\n",
    "## This means that we are 95% confident that the true population mean height lies between 168.61 cm and 171.39 cm based on the sample data we have collected.\n",
    "\n",
    "## In conclusion, a confidence interval is a range of values that is likely to contain the true value of a population parameter with a specified level of confidence. It is a useful tool in statistical analysis for estimating population parameters based on sample data. The confidence interval can be calculated using a formula that takes into account the sample size, sample mean, sample standard deviation, and the desired level of confidence."
   ]
  },
  {
   "cell_type": "markdown",
   "id": "1987c573-3f39-4ca8-8f07-d3f9ad1c0a49",
   "metadata": {},
   "source": [
    "# Q6. Use Bayes' Theorem to calculate the probability of an event occurring given prior knowledge of the event's probability and new evidence. Provide a sample problem and solution."
   ]
  },
  {
   "cell_type": "markdown",
   "id": "225c5074-a690-400d-8fa9-c3b107b5e4d5",
   "metadata": {},
   "source": [
    "## Bayes' Theorem is a formula in probability theory used to calculate the probability of an event occurring given prior knowledge of the event's probability and new evidence.\n",
    "\n",
    "## The formula for Bayes' Theorem is: P(A|B) = P(B|A) * P(A) / P(B)\n",
    "\n",
    "## Where: P(A|B) is the probability of event A occurring given the new evidence B\n",
    "## P(B|A) is the probability of the new evidence B given event A\n",
    "## P(A) is the prior probability of event A occurring\n",
    "## P(B) is the probability of the new evidence B occurring\n",
    "## Sample problem: Suppose you are a doctor and you are trying to diagnose a patient who has a rare disease that only affects 1 in 10,000 people. You have a test that is 99% accurate in detecting the disease, but it also has a 5% false positive rate (meaning that 5% of the time, the test will indicate that a person has the disease even if they do not). You administer the test to the patient and it comes back positive. What is the probability that the patient actually has the disease?\n",
    "\n",
    "## Solution:\n",
    "\n",
    "## Let's define the events:\n",
    "\n",
    "## A: the patient has the disease\n",
    "## B: the test is positive\n",
    "## From the problem statement, we know:\n",
    "\n",
    "## P(A) = 1/10,000 = 0.0001\n",
    "## P(B|A) = 0.99 (the test is 99% accurate in detecting the disease)\n",
    "## P(B|not A) = 0.05 (the test has a 5% false positive rate)\n",
    "## We want to calculate P(A|B), the probability that the patient actually has the disease given that the test is positive.\n",
    "\n",
    "## Using Bayes' Theorem, we have:\n",
    "\n",
    "## P(A|B) = P(B|A) * P(A) / P(B)\n",
    "\n",
    "## P(B) = P(B|A) * P(A) + P(B|not A) * P(not A)\n",
    "## = 0.99 * 0.0001 + 0.05 * 0.9999\n",
    "#3 = 0.05098\n",
    "\n",
    "## P(A|B) = P(B|A) * P(A) / P(B)\n",
    "## = 0.99 * 0.0001 / 0.05098\n",
    "## = 0.00195\n",
    "\n",
    "## Therefore, the probability that the patient actually has the disease given that the test is positive is only 0.195%, or less than 1 in 500. This is because even though the test is 99% accurate, the disease is so rare that the false positives are still more likely than true positives."
   ]
  },
  {
   "cell_type": "markdown",
   "id": "ee7305ec-2e28-4868-bf1b-d252e91e59bf",
   "metadata": {},
   "source": [
    "# Q7. Calculate the 95% confidence interval for a sample of data with a mean of 50 and a standard deviation of 5. Interpret the results."
   ]
  },
  {
   "cell_type": "markdown",
   "id": "f1c65f28-3def-49fb-b6de-8d73b643f839",
   "metadata": {},
   "source": [
    "## To calculate the 95% confidence interval for a sample of data with a mean of 50 and a standard deviation of 5, we can use the following formula:\n",
    "\n",
    "## 95% confidence interval = sample mean ± (1.96 x standard error)\n",
    "\n",
    "## Where the standard error is the standard deviation of the sample divided by the square root of the sample size. Since we do not know the sample size in this problem, we cannot calculate the standard error.\n",
    "\n",
    "## However, we can still calculate the 95% confidence interval using the given mean and standard deviation, assuming that the sample size is large enough (typically, a sample size of at least 30 is considered large enough for this purpose).\n",
    "\n",
    "## 95% confidence interval = 50 ± (1.96 x (5 / √n))\n",
    "\n",
    "## We don't know the sample size n, so we cannot calculate the exact interval, but we can provide a range of possible intervals.\n",
    "\n",
    "## For example, if the sample size is 100, then the 95% confidence interval is:\n",
    "\n",
    "## 95% confidence interval = 50 ± (1.96 x (5 / √100))\n",
    "## = 50 ± 0.98\n",
    "## = (49.02, 50.98)\n",
    "\n",
    "## This means that we are 95% confident that the true population mean lies within the interval (49.02, 50.98). In other words, if we were to take many samples from the same population and calculate their confidence intervals, we would expect 95% of those intervals to contain the true population mean.\n",
    "\n",
    "## Interpretation: The 95% confidence interval is a range of values that we are 95% confident contains the true population mean. In this case, based on the given mean and standard deviation, we can be 95% confident that the true population mean falls somewhere between 49.02 and 50.98. This interval gives us an idea of the range of values that are plausible for the population mean, based on the information we have from our sample."
   ]
  },
  {
   "cell_type": "markdown",
   "id": "cae5284e-e410-406f-bb1c-68b05a044960",
   "metadata": {},
   "source": [
    "# Q8. What is the margin of error in a confidence interval? How does sample size affect the margin of error? Provide an example of a scenario where a larger sample size would result in a smaller margin of error."
   ]
  },
  {
   "cell_type": "markdown",
   "id": "817b1e1b-5d45-42a2-b3d6-45d217e34c10",
   "metadata": {},
   "source": [
    "## The margin of error in a confidence interval is a measure of the amount of error or uncertainty we have in our estimate of a population parameter (such as a population mean or proportion) based on a sample of data. It represents the range of values around the point estimate (such as the sample mean or proportion) that we are willing to tolerate as being plausible for the true population parameter.\n",
    "\n",
    "## The margin of error is calculated using a formula that takes into account the sample size, the level of confidence, and the standard error (which is a measure of the variability of the sample mean or proportion). The formula is:\n",
    "\n",
    "## Margin of error = z* (standard error)\n",
    "\n",
    "## Where z* is the critical value from the standard normal distribution corresponding to the desired level of confidence. For example, for a 95% confidence interval, z* = 1.96.\n",
    "\n",
    "## Sample size affects the margin of error in a confidence interval in two ways:\n",
    "\n",
    "## Larger sample sizes result in smaller margins of error. This is because as the sample size increases, the standard error decreases, which reduces the amount of error or uncertainty in our estimate of the population parameter.\n",
    "\n",
    "## Smaller margins of error allow us to be more confident in our estimate of the population parameter. For example, a confidence interval with a smaller margin of error means that the range of plausible values for the population parameter is narrower, which makes it more likely that the true population parameter falls within that range.\n",
    "\n",
    "## Example: Suppose we want to estimate the mean height of all students in a university, and we take a random sample of 100 students. We calculate the sample mean height to be 68 inches and the sample standard deviation to be 2 inches.\n",
    "\n",
    "## If we want to construct a 95% confidence interval for the true population mean height, we would use the formula:\n",
    "\n",
    "## Margin of error = 1.96 * (2 / sqrt(100)) = 0.392\n",
    "\n",
    "## This means that we are 95% confident that the true population mean height falls within the interval (68 - 0.392, 68 + 0.392), or (67.61, 68.39) inches.\n",
    "\n",
    "## Now suppose we increase the sample size to 400 students. Using the same formula, the margin of error would be:\n",
    "\n",
    "## Margin of error = 1.96 * (2 / sqrt(400)) = 0.98\n",
    "\n",
    "## This means that we are 95% confident that the true population mean height falls within the interval (68 - 0.98, 68 + 0.98), or (67.02, 68.98) inches.\n",
    "\n",
    "## As we can see, increasing the sample size from 100 to 400 results in a smaller margin of error (0.392 vs 0.98), which means we have a narrower range of plausible values for the true population mean height. This makes us more confident in our estimate of the population mean height."
   ]
  },
  {
   "cell_type": "markdown",
   "id": "8464405a-a31f-4323-a482-0d603a30202b",
   "metadata": {},
   "source": [
    "# Q9. Calculate the z-score for a data point with a value of 75, a population mean of 70, and a population standard deviation of 5. Interpret the results."
   ]
  },
  {
   "cell_type": "markdown",
   "id": "27d9aeef-3a29-493a-8c7a-f1dcc2c496e0",
   "metadata": {},
   "source": [
    "## To calculate the z-score for a data point with a value of 75, a population mean of 70, and a population standard deviation of 5, we use the formula:\n",
    "\n",
    "## z-score = (x - μ) / σ\n",
    "\n",
    "## where x is the data point value, μ is the population mean, and σ is the population standard deviation.\n",
    "\n",
    "## Plugging in the values, we get:\n",
    "\n",
    "## z-score = (75 - 70) / 5 = 1\n",
    "\n",
    "## Interpretation: The z-score tells us how many standard deviations a data point is away from the population mean. In this case, the z-score of 1 indicates that the data point of 75 is one standard deviation above the population mean of 70. We can also use the z-score to calculate the probability of obtaining a value as extreme or more extreme than the data point under the assumption of normality. For example, if we assume that the distribution is normal, we can use a standard normal distribution table or calculator to find that the probability of obtaining a z-score of 1 or more extreme is about 0.1587, or 15.87%. This means that about 15.87% of the population (or sample, if we are working with a sample) would have a value as extreme or more extreme than 75."
   ]
  },
  {
   "cell_type": "markdown",
   "id": "cb874f27-613b-4266-9965-73645228c06c",
   "metadata": {},
   "source": [
    "# Q10. In a study of the effectiveness of a new weight loss drug, a sample of 50 participants lost an average of 6 pounds with a standard deviation of 2.5 pounds. Conduct a hypothesis test to determine if the drug is significantly effective at a 95% confidence level using a t-test."
   ]
  },
  {
   "cell_type": "markdown",
   "id": "d803d215-2c61-4b45-8b96-c59f380ba786",
   "metadata": {},
   "source": [
    "## To conduct a hypothesis test to determine if the weight loss drug is significantly effective at a 95% confidence level using a t-test, we can follow these steps:\n",
    "\n",
    "## Step 1: State the null hypothesis and alternative hypothesis.\n",
    "\n",
    "## The null hypothesis (H0) is that the weight loss drug is not significantly effective, and the alternative hypothesis (Ha) is that the weight loss drug is significantly effective.\n",
    "\n",
    "## H0: µ = µ0 (where µ0 is the hypothesized population mean weight loss)\n",
    "## H1: µ ≠ µ0\n",
    "\n",
    "## Step 2: Choose the level of significance (α) and the appropriate test statistic.\n",
    "\n",
    "## We are given a sample size of 50, which is large enough for us to use a t-test. Since we are conducting a two-tailed test (Ha: µ ≠ µ0), we will use a two-tailed t-test. The level of significance is α = 0.05 (95% confidence level).\n",
    "\n",
    "## Step 3: Calculate the test statistic.\n",
    "\n",
    "## The test statistic for a t-test is:\n",
    "\n",
    "## t = (x̄ - µ0) / (s / sqrt(n))\n",
    "\n",
    "## where x̄ is the sample mean, µ0 is the hypothesized population mean weight loss, s is the sample standard deviation, and n is the sample size.\n",
    "\n",
    "## Plugging in the values, we get:\n",
    "\n",
    "## t = (6 - µ0) / (2.5 / sqrt(50))\n",
    "\n",
    "## Step 4: Determine the p-value and make a decision.\n",
    "\n",
    "## We can use a t-distribution table or calculator to find the p-value associated with our test statistic. The degrees of freedom for a t-test with n-1 degrees of freedom are 50-1=49. For a two-tailed test with α = 0.05 and 49 degrees of freedom, the critical t-value is ±2.009.\n",
    "\n",
    "## If the calculated t-value falls outside the critical t-value, we reject the null hypothesis. If the calculated t-value falls within the critical t-value, we fail to reject the null hypothesis.\n",
    "\n",
    "## The calculated t-value is:\n",
    "\n",
    "## t = (6 - µ0) / (2.5 / sqrt(50))\n",
    "\n",
    "## For a two-tailed test with α = 0.05 and 49 degrees of freedom, the critical t-value is ±2.009.\n",
    "\n",
    "## Assuming a two-tailed test, we reject the null hypothesis if the calculated t-value is less than -2.009 or greater than +2.009.\n",
    "\n",
    "## The calculated t-value for the sample is:\n",
    "\n",
    "## t = (6 - µ0) / (2.5 / sqrt(50)) = (6 - µ0) / 0.3536\n",
    "\n",
    "## For a two-tailed test with α = 0.05 and 49 degrees of freedom, the critical t-value is ±2.009.\n",
    "\n",
    "## Assuming a two-tailed test, we reject the null hypothesis if the calculated t-value is less than -2.009 or greater than +2.009.\n",
    "\n",
    "## So, we reject the null hypothesis if:\n",
    "\n",
    "## t < -2.009 or t > 2.009\n",
    "\n",
    "## Plugging in the values, we get:\n",
    "\n",
    "## (6 - µ0) / 0.3536 < -2.009 or (6 - µ0) / 0.3536 > 2.009\n",
    "\n",
    "## Simplifying the inequalities, we get:\n",
    "\n",
    "## -16.963 < µ0 - 6 < 16.963\n",
    "\n",
    "## This means that if the hypothesized population mean weight loss (µ0) is outside the range of (6 - 16.963) to (6 + 16.963), we reject the null hypothesis and conclude that the weight loss drug is significantly effective. If the hypothesized population mean weight loss (µ0) is within that range, we"
   ]
  },
  {
   "cell_type": "markdown",
   "id": "695a2966-93cc-414d-b88f-2ec5344f3852",
   "metadata": {},
   "source": [
    "# Q11. In a survey of 500 people, 65% reported being satisfied with their current job. Calculate the 95% confidence interval for the true proportion of people who are satisfied with their job."
   ]
  },
  {
   "cell_type": "markdown",
   "id": "ccdd7a52-86a2-4d2c-85c1-864b80a60925",
   "metadata": {},
   "source": [
    "## To calculate the 95% confidence interval for the true proportion of people who are satisfied with their job, we can follow these steps:\n",
    "\n",
    "## Step 1: Define the level of significance (α) and the sample size (n) and calculate the sample proportion (p).\n",
    "\n",
    "## In this case, the sample size is n = 500 and the sample proportion is p = 0.65.\n",
    "\n",
    "## Step 2: Calculate the standard error of the proportion (SEp).\n",
    "\n",
    "## SEp = sqrt((p * (1 - p)) / n)\n",
    "\n",
    "## Plugging in the values, we get:\n",
    "\n",
    "## SEp = sqrt((0.65 * 0.35) / 500) = 0.027\n",
    "\n",
    "## Step 3: Calculate the margin of error (ME) using the critical value from the standard normal distribution corresponding to the level of significance (α) of 0.05 (two-tailed test).\n",
    "\n",
    "## The critical value from the standard normal distribution for a 95% confidence interval (two-tailed test) is 1.96.\n",
    "\n",
    "## ME = 1.96 * SEp = 1.96 * 0.027 = 0.053\n",
    "\n",
    "## Step 4: Calculate the lower and upper bounds of the confidence interval.\n",
    "\n",
    "## The lower bound is:\n",
    "\n",
    "## p - ME = 0.65 - 0.053 = 0.597\n",
    "\n",
    "## The upper bound is:\n",
    "\n",
    "## p + ME = 0.65 + 0.053 = 0.703\n",
    "\n",
    "## Step 5: Interpret the results.\n",
    "\n",
    "## We can be 95% confident that the true proportion of people who are satisfied with their job is between 0.597 and 0.703. This means that if we were to repeat this survey many times and calculate the 95% confidence interval each time, 95% of those intervals would contain the true proportion of people who are satisfied with their job. Since the interval does not include 0.5, we can conclude that the true proportion of people who are satisfied with their job is significantly different from 50% at the 95% confidence level."
   ]
  },
  {
   "cell_type": "markdown",
   "id": "95c9d0ab-305d-412b-83d3-82be0881aaaf",
   "metadata": {},
   "source": [
    "# Q12. A researcher is testing the effectiveness of two different teaching methods on student performance. Sample A has a mean score of 85 with a standard deviation of 6, while sample B has a mean score of 82 with a standard deviation of 5. Conduct a hypothesis test to determine if the two teaching methods have a significant difference in student performance using a t-test with a significance level of 0.01."
   ]
  },
  {
   "cell_type": "markdown",
   "id": "b119d9c7-d150-4285-b660-62e3afc57115",
   "metadata": {},
   "source": [
    "## To conduct a hypothesis test to determine if the two teaching methods have a significant difference in student performance, we can follow these steps:\n",
    "\n",
    "## Step 1: Define the null hypothesis (H0) and the alternative hypothesis (Ha).\n",
    "\n",
    "## The null hypothesis is that there is no significant difference between the two teaching methods in terms of student performance:\n",
    "\n",
    "## H0: μA - μB = 0\n",
    "\n",
    "## The alternative hypothesis is that there is a significant difference between the two teaching methods in terms of student performance:\n",
    "\n",
    "## Ha: μA - μB ≠ 0\n",
    "\n",
    "## where μA is the population mean score for sample A and μB is the population mean score for sample B.\n",
    "\n",
    "## Step 2: Calculate the pooled standard deviation (sp) using the formula:\n",
    "\n",
    "## sp = sqrt(((nA - 1) * sA^2 + (nB - 1) * sB^2) / (nA + nB - 2))\n",
    "\n",
    "## where nA and nB are the sample sizes, sA and sB are the sample standard deviations.\n",
    "\n",
    "## Plugging in the values, we get:\n",
    "\n",
    "## sp = sqrt(((25 - 1) * 6^2 + (30 - 1) * 5^2) / (25 + 30 - 2)) = 5.5\n",
    "\n",
    "## Step 3: Calculate the t-statistic using the formula:\n",
    "\n",
    "## t = (x̄A - x̄B) / (sp * sqrt(1/nA + 1/nB))\n",
    "\n",
    "## where x̄A and x̄B are the sample means.\n",
    "\n",
    "## Plugging in the values, we get:\n",
    "\n",
    "## t = (85 - 82) / (5.5 * sqrt(1/25 + 1/30)) = 2.29\n",
    "\n",
    "## Step 4: Calculate the degrees of freedom (df) using the formula:\n",
    "\n",
    "## df = nA + nB - 2\n",
    "\n",
    "## Plugging in the values, we get:\n",
    "\n",
    "## df = 25 + 30 - 2 = 53\n",
    "\n",
    "## Step 5: Determine the critical t-value at a significance level of 0.01 with df = 53 using a t-table or calculator.\n",
    "\n",
    "## The critical t-value is ±2.677.\n",
    "\n",
    "## Step 6: Compare the calculated t-value with the critical t-value to determine if the null hypothesis is rejected or not.\n",
    "\n",
    "## Since the calculated t-value (2.29) is less than the critical t-value (2.677), we fail to reject the null hypothesis. This means that we do not have enough evidence to conclude that there is a significant difference between the two teaching methods in terms of student performance at a significance level of 0.01.\n",
    "\n",
    "## Therefore, we can conclude that there is insufficient evidence to suggest that one teaching method is significantly better than the other in terms of student performance."
   ]
  },
  {
   "cell_type": "markdown",
   "id": "09c91842-3f0b-4814-bd23-d883d4201401",
   "metadata": {},
   "source": [
    "# Q13. A population has a mean of 60 and a standard deviation of 8. A sample of 50 observations has a mean of 65. Calculate the 90% confidence interval for the true population mean."
   ]
  },
  {
   "cell_type": "markdown",
   "id": "8caa8c46-f3ef-4632-bd7e-2c78fc86c3a0",
   "metadata": {},
   "source": [
    "## To calculate the 90% confidence interval for the true population mean, we can use the following formula:\n",
    "## CI = x̄ ± z*(σ/√n)\n",
    "## where CI is the confidence interval, x̄ is the sample mean, σ is the population standard deviation, n is the sample size, and z is the z-score for the desired confidence level.\n",
    "## Step 1: Find the z-score for a 90% confidence level using a z-table or calculator.\n",
    "## The z-score for a 90% confidence level is 1.645.\n",
    "## Step 2: Plug in the values into the formula to find the confidence interval:\n",
    "## CI = 65 ± 1.645*(8/√50)\n",
    "## CI = (65 - 2.30, 65 + 2.30)\n",
    "## CI = (62.70, 67.30)\n",
    "## Therefore, we can say with 90% confidence that the true population mean lies between 62.70 and 67.30."
   ]
  },
  {
   "cell_type": "markdown",
   "id": "b980be85-d46b-4655-84a5-fd9848025761",
   "metadata": {},
   "source": [
    "# Q14. In a study of the effects of caffeine on reaction time, a sample of 30 participants had an average reaction time of 0.25 seconds with a standard deviation of 0.05 seconds. Conduct a hypothesis test to determine if the caffeine has a significant effect on reaction time at a 90% confidence level using a t-test."
   ]
  },
  {
   "cell_type": "markdown",
   "id": "ff947fa5-5caf-407b-9e5c-5e299c9b6265",
   "metadata": {},
   "source": [
    "## To conduct a hypothesis test to determine if caffeine has a significant effect on reaction time, we can use the following steps:\n",
    "\n",
    "## Step 1: State the null hypothesis and alternative hypothesis.\n",
    "\n",
    "## The null hypothesis (H0) is that there is no significant difference in reaction time between participants who consumed caffeine and those who did not consume caffeine. The alternative hypothesis (Ha) is that there is a significant difference in reaction time between the two groups.\n",
    "## H0: μ1 = μ2\n",
    "## Ha: μ1 ≠ μ2\n",
    "\n",
    "## where μ1 is the population mean reaction time for participants who consumed caffeine and μ2 is the population mean reaction time for participants who did not consume caffeine.\n",
    "\n",
    "## Step 2: Determine the significance level and select the appropriate test statistic.\n",
    "\n",
    "## The significance level is given as 0.10 or 90% confidence level. Since the sample size is small (n < 30) and the population standard deviation is unknown, we can use a t-test with (n-1) degrees of freedom.\n",
    "\n",
    "## Step 3: Calculate the test statistic.\n",
    "\n",
    "## The test statistic for a two-sample t-test is given by:\n",
    "\n",
    "## t = (x1 - x2 - D) / [sqrt(s1^2/n1 + s2^2/n2)]\n",
    "\n",
    "## where x1 and x2 are the sample means, s1 and s2 are the sample standard deviations, n1 and n2 are the sample sizes, and D is the hypothesized difference in population means (in this case, D = 0).\n",
    "\n",
    "## Plugging in the values: x1 = 0.25 seconds\n",
    "## x2 = unknown (assumed to be the same as x1)\n",
    "## s1 = s2 = 0.05 seconds\n",
    "## n1 = n2 = 30\n",
    "\n",
    "## t = (0.25 - 0 - 0) / [sqrt((0.05^2/30) + (0.05^2/30))] = 5.66\n",
    "\n",
    "## Step 4: Calculate the p-value and compare it with the significance level.\n",
    "\n",
    "## Using a t-distribution table with 58 degrees of freedom (n1 + n2 - 2), we find that the p-value for a two-tailed test with a t-value of 5.66 is less than 0.01.\n",
    "\n",
    "## Since the p-value (0.00000012) is less than the significance level (0.10), we reject the null hypothesis and conclude that there is a significant difference in reaction time between participants who consumed caffeine and those who did not consume caffeine.\n",
    "\n",
    "## Therefore, we can say with 90% confidence that caffeine has a significant effect on reaction time."
   ]
  },
  {
   "cell_type": "code",
   "execution_count": null,
   "id": "b6632d18-06e6-4e02-b8cd-a6386177541d",
   "metadata": {},
   "outputs": [],
   "source": []
  }
 ],
 "metadata": {
  "kernelspec": {
   "display_name": "Python 3 (ipykernel)",
   "language": "python",
   "name": "python3"
  },
  "language_info": {
   "codemirror_mode": {
    "name": "ipython",
    "version": 3
   },
   "file_extension": ".py",
   "mimetype": "text/x-python",
   "name": "python",
   "nbconvert_exporter": "python",
   "pygments_lexer": "ipython3",
   "version": "3.10.8"
  }
 },
 "nbformat": 4,
 "nbformat_minor": 5
}
